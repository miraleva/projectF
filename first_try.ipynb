{
 "cells": [
  {
   "cell_type": "markdown",
   "metadata": {},
   "source": [
    "şükür çalışıyo kamera kısmı\n"
   ]
  },
  {
   "cell_type": "code",
   "execution_count": 4,
   "metadata": {},
   "outputs": [],
   "source": [
    "import cv2\n",
    "\n",
    "cap = cv2.VideoCapture(0)  # Laptop kamerasını aç\n",
    "\n",
    "while True:\n",
    "    ret, frame = cap.read()  # Kameradan görüntü al\n",
    "    if not ret:\n",
    "        break\n",
    "    \n",
    "    cv2.imshow(\"Kamera\", frame)  # Görüntüyü göster\n",
    "    \n",
    "    if cv2.waitKey(1) & 0xFF == ord('q'):  # 'q' tuşuna basınca çık\n",
    "        break\n",
    "\n",
    "cap.release()\n",
    "cv2.destroyAllWindows()\n"
   ]
  },
  {
   "cell_type": "markdown",
   "metadata": {},
   "source": [
    "Hand Tracking kısmı"
   ]
  },
  {
   "cell_type": "code",
   "execution_count": 5,
   "metadata": {},
   "outputs": [],
   "source": [
    "import cv2\n",
    "import mediapipe as mp\n",
    "\n",
    "mp_hands = mp.solutions.hands\n",
    "hands = mp_hands.Hands()\n",
    "mp_draw = mp.solutions.drawing_utils\n",
    "\n",
    "cap = cv2.VideoCapture(0)\n",
    "\n",
    "while True:\n",
    "    ret, frame = cap.read()\n",
    "    if not ret:\n",
    "        break\n",
    "\n",
    "    frame_rgb = cv2.cvtColor(frame, cv2.COLOR_BGR2RGB)\n",
    "    results = hands.process(frame_rgb)\n",
    "\n",
    "    if results.multi_hand_landmarks:\n",
    "        for hand_landmarks in results.multi_hand_landmarks:\n",
    "            mp_draw.draw_landmarks(frame, hand_landmarks, mp_hands.HAND_CONNECTIONS)\n",
    "\n",
    "    cv2.imshow(\"El Takibi\", frame)\n",
    "    \n",
    "    if cv2.waitKey(1) & 0xFF == ord('q'):\n",
    "        break\n",
    "\n",
    "cap.release()\n",
    "cv2.destroyAllWindows()\n"
   ]
  },
  {
   "cell_type": "markdown",
   "metadata": {},
   "source": [
    "en güzel kısım: sound ekleme"
   ]
  },
  {
   "cell_type": "code",
   "execution_count": 2,
   "metadata": {},
   "outputs": [],
   "source": [
    "import cv2\n",
    "import mediapipe as mp\n",
    "import pygame\n",
    "\n",
    "# Pygame ile sesleri yükle\n",
    "pygame.mixer.init()\n",
    "sound1 = pygame.mixer.Sound(\"secret1.mp3\")  # Serçe parmak için\n",
    "sound2 = pygame.mixer.Sound(\"secret2.mp3\")  # Orta parmak için\n",
    "\n",
    "mp_hands = mp.solutions.hands\n",
    "hands = mp_hands.Hands()\n",
    "mp_draw = mp.solutions.drawing_utils\n",
    "\n",
    "cap = cv2.VideoCapture(0)\n",
    "\n",
    "while True:\n",
    "    ret, frame = cap.read()\n",
    "    if not ret:\n",
    "        break\n",
    "\n",
    "    frame_rgb = cv2.cvtColor(frame, cv2.COLOR_BGR2RGB)\n",
    "    results = hands.process(frame_rgb)\n",
    "\n",
    "    if results.multi_hand_landmarks:\n",
    "        for hand_landmarks in results.multi_hand_landmarks:\n",
    "            mp_draw.draw_landmarks(frame, hand_landmarks, mp_hands.HAND_CONNECTIONS)\n",
    "\n",
    "            # Parmakların durumunu kontrol et\n",
    "            landmarks = hand_landmarks.landmark\n",
    "            pinky_tip = landmarks[mp_hands.HandLandmark.PINKY_TIP].y\n",
    "            index_tip = landmarks[mp_hands.HandLandmark.INDEX_FINGER_TIP].y\n",
    "            middle_tip = landmarks[mp_hands.HandLandmark.MIDDLE_FINGER_TIP].y\n",
    "            ring_tip = landmarks[mp_hands.HandLandmark.RING_FINGER_TIP].y\n",
    "            thumb_tip = landmarks[mp_hands.HandLandmark.THUMB_TIP].y\n",
    "\n",
    "            # Eğer serçe parmak yukarıdaysa (diğer parmaklardan yukarıda)\n",
    "            if pinky_tip < index_tip and pinky_tip < middle_tip:\n",
    "                sound1.play()\n",
    "\n",
    "            # Eğer orta parmak yukarıdaysa\n",
    "            if middle_tip < index_tip and middle_tip < pinky_tip:\n",
    "                sound2.play()\n",
    "\n",
    "    cv2.imshow(\"Fart Detector\", frame)\n",
    "    \n",
    "    if cv2.waitKey(1) & 0xFF == ord('q'):\n",
    "        break\n",
    "\n",
    "cap.release()\n",
    "cv2.destroyAllWindows()\n"
   ]
  }
 ],
 "metadata": {
  "kernelspec": {
   "display_name": "Python 3",
   "language": "python",
   "name": "python3"
  },
  "language_info": {
   "codemirror_mode": {
    "name": "ipython",
    "version": 3
   },
   "file_extension": ".py",
   "mimetype": "text/x-python",
   "name": "python",
   "nbconvert_exporter": "python",
   "pygments_lexer": "ipython3",
   "version": "3.12.1"
  }
 },
 "nbformat": 4,
 "nbformat_minor": 2
}
