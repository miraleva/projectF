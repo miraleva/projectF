{
 "cells": [
  {
   "cell_type": "markdown",
   "metadata": {},
   "source": [
    "şükür çalışıyo kamera kısmı\n"
   ]
  },
  {
   "cell_type": "code",
   "execution_count": 4,
   "metadata": {},
   "outputs": [],
   "source": [
    "import cv2\n",
    "\n",
    "cap = cv2.VideoCapture(0)  # Laptop kamerasını aç\n",
    "\n",
    "while True:\n",
    "    ret, frame = cap.read()  # Kameradan görüntü al\n",
    "    if not ret:\n",
    "        break\n",
    "    \n",
    "    cv2.imshow(\"Kamera\", frame)  # Görüntüyü göster\n",
    "    \n",
    "    if cv2.waitKey(1) & 0xFF == ord('q'):  # 'q' tuşuna basınca çık\n",
    "        break\n",
    "\n",
    "cap.release()\n",
    "cv2.destroyAllWindows()\n"
   ]
  },
  {
   "cell_type": "markdown",
   "metadata": {},
   "source": [
    "Hand Tracking kısmı"
   ]
  },
  {
   "cell_type": "code",
   "execution_count": 5,
   "metadata": {},
   "outputs": [],
   "source": [
    "import cv2\n",
    "import mediapipe as mp\n",
    "\n",
    "mp_hands = mp.solutions.hands\n",
    "hands = mp_hands.Hands()\n",
    "mp_draw = mp.solutions.drawing_utils\n",
    "\n",
    "cap = cv2.VideoCapture(0)\n",
    "\n",
    "while True:\n",
    "    ret, frame = cap.read()\n",
    "    if not ret:\n",
    "        break\n",
    "\n",
    "    frame_rgb = cv2.cvtColor(frame, cv2.COLOR_BGR2RGB)\n",
    "    results = hands.process(frame_rgb)\n",
    "\n",
    "    if results.multi_hand_landmarks:\n",
    "        for hand_landmarks in results.multi_hand_landmarks:\n",
    "            mp_draw.draw_landmarks(frame, hand_landmarks, mp_hands.HAND_CONNECTIONS)\n",
    "\n",
    "    cv2.imshow(\"El Takibi\", frame)\n",
    "    \n",
    "    if cv2.waitKey(1) & 0xFF == ord('q'):\n",
    "        break\n",
    "\n",
    "cap.release()\n",
    "cv2.destroyAllWindows()\n"
   ]
  },
  {
   "cell_type": "markdown",
   "metadata": {},
   "source": [
    "en güzel kısım: sound ekleme"
   ]
  },
  {
   "cell_type": "code",
   "execution_count": 6,
   "metadata": {},
   "outputs": [
    {
     "name": "stdout",
     "output_type": "stream",
     "text": [
      "pygame 2.6.1 (SDL 2.28.4, Python 3.12.1)\n",
      "Hello from the pygame community. https://www.pygame.org/contribute.html\n"
     ]
    },
    {
     "ename": "FileNotFoundError",
     "evalue": "No file 'fart1.mp3' found in working directory 'c:\\Users\\Almira\\Desktop\\cengBey\\projectF'.",
     "output_type": "error",
     "traceback": [
      "\u001b[1;31m---------------------------------------------------------------------------\u001b[0m",
      "\u001b[1;31mFileNotFoundError\u001b[0m                         Traceback (most recent call last)",
      "Cell \u001b[1;32mIn[6], line 7\u001b[0m\n\u001b[0;32m      5\u001b[0m \u001b[38;5;66;03m# Pygame ile sesleri yükle\u001b[39;00m\n\u001b[0;32m      6\u001b[0m pygame\u001b[38;5;241m.\u001b[39mmixer\u001b[38;5;241m.\u001b[39minit()\n\u001b[1;32m----> 7\u001b[0m sound1 \u001b[38;5;241m=\u001b[39m \u001b[43mpygame\u001b[49m\u001b[38;5;241;43m.\u001b[39;49m\u001b[43mmixer\u001b[49m\u001b[38;5;241;43m.\u001b[39;49m\u001b[43mSound\u001b[49m\u001b[43m(\u001b[49m\u001b[38;5;124;43m\"\u001b[39;49m\u001b[38;5;124;43mfart1.mp3\u001b[39;49m\u001b[38;5;124;43m\"\u001b[39;49m\u001b[43m)\u001b[49m  \u001b[38;5;66;03m# Serçe parmak için\u001b[39;00m\n\u001b[0;32m      8\u001b[0m sound2 \u001b[38;5;241m=\u001b[39m pygame\u001b[38;5;241m.\u001b[39mmixer\u001b[38;5;241m.\u001b[39mSound(\u001b[38;5;124m\"\u001b[39m\u001b[38;5;124mfart2.mp3\u001b[39m\u001b[38;5;124m\"\u001b[39m)  \u001b[38;5;66;03m# Orta parmak için\u001b[39;00m\n\u001b[0;32m     10\u001b[0m mp_hands \u001b[38;5;241m=\u001b[39m mp\u001b[38;5;241m.\u001b[39msolutions\u001b[38;5;241m.\u001b[39mhands\n",
      "\u001b[1;31mFileNotFoundError\u001b[0m: No file 'fart1.mp3' found in working directory 'c:\\Users\\Almira\\Desktop\\cengBey\\projectF'."
     ]
    }
   ],
   "source": [
    "import cv2\n",
    "import mediapipe as mp\n",
    "import pygame\n",
    "\n",
    "# Pygame ile sesleri yükle\n",
    "pygame.mixer.init()\n",
    "sound1 = pygame.mixer.Sound(\"fart1.mp3\")  # Serçe parmak için\n",
    "sound2 = pygame.mixer.Sound(\"fart2.mp3\")  # Orta parmak için\n",
    "\n",
    "mp_hands = mp.solutions.hands\n",
    "hands = mp_hands.Hands()\n",
    "mp_draw = mp.solutions.drawing_utils\n",
    "\n",
    "cap = cv2.VideoCapture(0)\n",
    "\n",
    "while True:\n",
    "    ret, frame = cap.read()\n",
    "    if not ret:\n",
    "        break\n",
    "\n",
    "    frame_rgb = cv2.cvtColor(frame, cv2.COLOR_BGR2RGB)\n",
    "    results = hands.process(frame_rgb)\n",
    "\n",
    "    if results.multi_hand_landmarks:\n",
    "        for hand_landmarks in results.multi_hand_landmarks:\n",
    "            mp_draw.draw_landmarks(frame, hand_landmarks, mp_hands.HAND_CONNECTIONS)\n",
    "\n",
    "            # Parmakların durumunu kontrol et\n",
    "            landmarks = hand_landmarks.landmark\n",
    "            pinky_tip = landmarks[mp_hands.HandLandmark.PINKY_TIP].y\n",
    "            index_tip = landmarks[mp_hands.HandLandmark.INDEX_FINGER_TIP].y\n",
    "            middle_tip = landmarks[mp_hands.HandLandmark.MIDDLE_FINGER_TIP].y\n",
    "            ring_tip = landmarks[mp_hands.HandLandmark.RING_FINGER_TIP].y\n",
    "            thumb_tip = landmarks[mp_hands.HandLandmark.THUMB_TIP].y\n",
    "\n",
    "            # Eğer serçe parmak yukarıdaysa (diğer parmaklardan yukarıda)\n",
    "            if pinky_tip < index_tip and pinky_tip < middle_tip:\n",
    "                sound1.play()\n",
    "\n",
    "            # Eğer orta parmak yukarıdaysa\n",
    "            if middle_tip < index_tip and middle_tip < pinky_tip:\n",
    "                sound2.play()\n",
    "\n",
    "    cv2.imshow(\"Fart Detector\", frame)\n",
    "    \n",
    "    if cv2.waitKey(1) & 0xFF == ord('q'):\n",
    "        break\n",
    "\n",
    "cap.release()\n",
    "cv2.destroyAllWindows()\n"
   ]
  }
 ],
 "metadata": {
  "kernelspec": {
   "display_name": "Python 3",
   "language": "python",
   "name": "python3"
  },
  "language_info": {
   "codemirror_mode": {
    "name": "ipython",
    "version": 3
   },
   "file_extension": ".py",
   "mimetype": "text/x-python",
   "name": "python",
   "nbconvert_exporter": "python",
   "pygments_lexer": "ipython3",
   "version": "3.12.1"
  }
 },
 "nbformat": 4,
 "nbformat_minor": 2
}
